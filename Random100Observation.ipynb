{
 "cells": [
  {
   "cell_type": "code",
   "execution_count": null,
   "id": "ae106c53-e783-4464-a9c7-e3407036aeb7",
   "metadata": {},
   "outputs": [],
   "source": [
    "import pandas as pd\n",
    "\n",
    "df = pd.read_csv('knnMergedOutput.csv', encoding='UTF-8')\n"
   ]
  },
  {
   "cell_type": "code",
   "execution_count": null,
   "id": "286ea604-f197-4e5d-bed4-79c3bfe773b8",
   "metadata": {},
   "outputs": [],
   "source": [
    "df6 = pd.read_csv('sampled_output.csv', encoding='ISO-8859-1')\n",
    "df1 = pd.read_csv('cosine_similarity_output_part_1.csv', encoding='ISO-8859-1')\n",
    "df2 = pd.read_csv('cosine_similarity_output_part_2.csv', encoding='ISO-8859-1')\n",
    "df3 = pd.read_csv('cosine_similarity_output_part_3.csv', encoding='ISO-8859-1')\n",
    "df4 = pd.read_csv('cosine_similarity_output_part_4.csv', encoding='ISO-8859-1')\n",
    "df5 = pd.read_csv('cosine_similarity_output_part_5.csv', encoding='ISO-8859-1')\n"
   ]
  },
  {
   "cell_type": "code",
   "execution_count": null,
   "id": "00774e31-0a9a-430a-a0af-b0c8f51ed25b",
   "metadata": {},
   "outputs": [],
   "source": [
    "df6"
   ]
  },
  {
   "cell_type": "code",
   "execution_count": null,
   "id": "3f4ec6d2-81d7-424f-9142-2e6b94b6fa9c",
   "metadata": {},
   "outputs": [],
   "source": [
    "df_sorted_kitchen = df6[df6['KitchenWare'] == 'yes']\n",
    "df_sorted_kitchen"
   ]
  },
  {
   "cell_type": "code",
   "execution_count": null,
   "id": "16cbf599-9715-4013-b87a-0d7526172231",
   "metadata": {},
   "outputs": [],
   "source": [
    "\n",
    "\n",
    "\n",
    "\n",
    "\n",
    "# Create a bar chart\n",
    "# 'range(len(df_sorted_kitchen['Delta Date']))' creates a sequence of numbers for the x-axis\n",
    "# 'df_sorted_kitchen['Delta Date']' is the data you want to plot\n",
    "plt.bar(range(len(df_sorted_kitchen['Delta Date'])), df_sorted_kitchen['Delta Date'], color='blue')\n",
    "\n",
    "# Add labels and title\n",
    "plt.xlabel('Index', fontsize=12)\n",
    "plt.ylabel('Delta Date', fontsize=12)\n",
    "plt.title('Delta Date for Each Hashtag')\n",
    "\n",
    "# Show the plot\n",
    "plt.show()\n"
   ]
  },
  {
   "cell_type": "code",
   "execution_count": null,
   "id": "876ed57f-ee4b-4d21-b537-ac5ea302572e",
   "metadata": {},
   "outputs": [],
   "source": [
    "df_sorted_cos = df6[df6['Match(cos)'] == 'yes']\n",
    "df_sorted_cos"
   ]
  },
  {
   "cell_type": "code",
   "execution_count": null,
   "id": "9fc2e1d6-de3f-421e-809d-59e6b2e24ac5",
   "metadata": {},
   "outputs": [],
   "source": [
    "df_sorted_knn = df6[df6['Match(Knn)'] == 'yes']\n",
    "df_sorted_knn"
   ]
  },
  {
   "cell_type": "markdown",
   "id": "653d3338-3846-45f6-ad38-fd0667daac10",
   "metadata": {},
   "source": [
    "##### Assuming df1 and df2 are your DataFrames\n",
    "df = pd.concat([df1, df2, df3, df4, df5], ignore_index=True)\n",
    "\n",
    "# Now df_merged contains all rows from df1 and df2\n"
   ]
  },
  {
   "cell_type": "code",
   "execution_count": null,
   "id": "a9cd7e53-5017-4231-b642-40ca6e070a85",
   "metadata": {},
   "outputs": [],
   "source": [
    "df = pd.concat([df1, df2, df3, df4, df5], ignore_index=True)"
   ]
  },
  {
   "cell_type": "code",
   "execution_count": null,
   "id": "d6f4fc51-6ef6-4a95-8bc2-34290d2d10f8",
   "metadata": {},
   "outputs": [],
   "source": [
    "print(df.tail())"
   ]
  },
  {
   "cell_type": "code",
   "execution_count": null,
   "id": "49979f18-b463-4d39-b63c-653012e5bf21",
   "metadata": {},
   "outputs": [],
   "source": [
    "df1 = pd.read_csv('cosine_similarity_output_part_1.csv', encoding='UTF-8')\n",
    "\n",
    "# Check the number of rows read into the DataFrame\n",
    "total_rows = len(df1)\n",
    "print(f\"Total rows in DataFrame: {total_rows}\")\n"
   ]
  },
  {
   "cell_type": "code",
   "execution_count": 4,
   "id": "da3013b4-2521-4c5d-8918-d91969d2fc40",
   "metadata": {},
   "outputs": [
    {
     "name": "stdout",
     "output_type": "stream",
     "text": [
      "  TTDescription Date Collected  KNN match confidence AmzSearchTerm  \\\n",
      "0             _     2023-04-07                   1.0            $6   \n",
      "1           ___     2023-04-07                   1.0            $6   \n",
      "2        _marwe     2023-04-12                   1.0            $6   \n",
      "3     musically     2023-04-07                   1.0            $6   \n",
      "4     musically     2023-04-07                   1.0            $6   \n",
      "\n",
      "  Reporting Date_x Delta Date_x  Cosine Similarity      SearchTerm  \\\n",
      "0       13/05/2023     -52 days                0.0  zzzquil liquid   \n",
      "1       13/05/2023     -52 days                0.0  zzzquil liquid   \n",
      "2       13/05/2023    -205 days                0.0  zzzquil liquid   \n",
      "3       13/05/2023     -52 days                0.0  zzzquil liquid   \n",
      "4       13/05/2023     -52 days                0.0  zzzquil liquid   \n",
      "\n",
      "  Reporting Date_y Delta Date_y  \n",
      "0       15/04/2023     -80 days  \n",
      "1       15/04/2023     -80 days  \n",
      "2       15/04/2023    -233 days  \n",
      "3       15/04/2023     -80 days  \n",
      "4       15/04/2023     -80 days  \n"
     ]
    }
   ],
   "source": [
    "print(df.head())"
   ]
  },
  {
   "cell_type": "code",
   "execution_count": null,
   "id": "c5fae70c-bf21-4ac9-b770-dd8552bdbf45",
   "metadata": {},
   "outputs": [],
   "source": [
    "len(df_filtered.head())"
   ]
  },
  {
   "cell_type": "code",
   "execution_count": null,
   "id": "3af717ea-abee-47bf-935a-ed921cee7b1b",
   "metadata": {},
   "outputs": [],
   "source": [
    "error_indices = []\n",
    "for i, date in enumerate(df['Reporting Date']):\n",
    "    try:\n",
    "        # Attempt to convert each date using the expected format\n",
    "        pd.to_datetime(date, format='%m/%d/%Y')\n",
    "    except ValueError:\n",
    "        # If a ValueError is raised, store the index of the problematic date\n",
    "        error_indices.append(i)\n",
    "\n",
    "# Now you have a list of indices for the dates that caused errors\n",
    "print(\"Indices of dates causing errors:\", error_indices)\n"
   ]
  },
  {
   "cell_type": "code",
   "execution_count": null,
   "id": "1956a2a2-069b-49a6-be93-be6e562725c0",
   "metadata": {},
   "outputs": [],
   "source": [
    "# Load your DataFrame (assuming 'df' is the DataFrame containing your data)\n",
    "#df = pd.read_csv('cosine_similarity_output_part_1.csv', encoding='ISO-8859-1')\n",
    "\n",
    "# Convert the 'Date Collected' and 'Reporting Date' columns to datetime objects\n",
    "df['Date Collected'] = pd.to_datetime(df['Date Collected'])#,dayfirst = True)  #, format = \"%m/%d/%Y\"\n",
    "df['Reporting Date_x'] = pd.to_datetime(df['Reporting Date_x'])#, dayfirst = True)#format = \"%m/%d/%Y\")\n",
    "df['Reporting Date_y'] = pd.to_datetime(df['Reporting Date_y'])\n",
    "# Convert 'Cosine Similarity' to numeric, coercing errors to NaN\n",
    "df['Cosine Similarity'] = pd.to_numeric(df['Cosine Similarity'], errors='coerce')\n",
    "\n",
    "# Filter the DataFrame to only include rows with 'Cosine Similarity' > 0.5\n",
    "df_filtered = df[df['Cosine Similarity'] > 0.5]\n",
    "\n",
    "# Calculate the 'Delta Date' column as the difference between 'Reporting Date' and 'Date Collected'\n",
    "df_filtered['Delta Date'] = df_filtered['Reporting Date'] - df_filtered['Date Collected']\n",
    "\n",
    "# If you want to convert the 'Delta Date' to a number of days (as integers), you can do so:\n",
    "df_filtered['Delta Date'] = df_filtered['Delta Date'].dt.days\n",
    "\n",
    "# Check the filtered DataFrame\n",
    "print(df_filtered)\n"
   ]
  },
  {
   "cell_type": "code",
   "execution_count": null,
   "id": "3f91c9e2-40e7-4713-b56a-5e573aec9a20",
   "metadata": {},
   "outputs": [],
   "source": []
  },
  {
   "cell_type": "code",
   "execution_count": null,
   "id": "e32f8487-bd38-4e78-a232-ef801bd25285",
   "metadata": {},
   "outputs": [],
   "source": [
    "\n",
    "\n",
    "# Convert the 'Date Collected' and 'Reporting Date' columns to datetime objects with the correct dayfirst setting\n",
    "df['Date Collected'] = pd.to_datetime(df['Date Collected'], dayfirst=True, errors='coerce')\n",
    "df['Reporting Date_x'] = pd.to_datetime(df['Reporting Date_x'], dayfirst=True, errors='coerce')\n",
    "df['Reporting Date_y'] = pd.to_datetime(df['Reporting Date_y'], dayfirst=True, errors='coerce')\n",
    "\n",
    "# Filter the DataFrame to only include rows with 'Cosine Similarity' > 0.5\n",
    "# By using .loc with a condition, you are explicitly working with a copy\n",
    "\n",
    "\n",
    "# Calculate the 'Delta Date' column as the difference between 'Reporting Date' and 'Date Collected'\n",
    "# Since df_filtered is now a copy, this operation should not raise the warning\n",
    "df['Delta Date_x'] = df['Reporting Date_x'] - df['Date Collected']\n",
    "df['Delta Date_y'] = df['Reporting Date_y'] - df['Date Collected']\n",
    "\n",
    "# Convert the 'Delta Date' to a number of days (as integers)\n",
    "df['Delta Date_knn'] = df['Delta Date_x'].dt.days\n",
    "df['Delta Date_cos'] = df['Delta Date_y'].dt.days\n",
    "# To avoid the SettingWithCopyWarning, use .loc to perform operations on the original df\n",
    "\n",
    "\n",
    "# Check the filtered DataFrame\n",
    "print(df)\n"
   ]
  },
  {
   "cell_type": "code",
   "execution_count": null,
   "id": "175c7e21-8e77-4789-873a-a6db09fd2abb",
   "metadata": {},
   "outputs": [],
   "source": [
    "df_filtered = df_filtered.dropna(subset=['Delta Date'])\n",
    "print(df_filtered)"
   ]
  },
  {
   "cell_type": "code",
   "execution_count": null,
   "id": "0daf0f58-5390-4295-bc9b-0bcbc15bbd6d",
   "metadata": {},
   "outputs": [],
   "source": [
    "# Randomly pick 100 rows from df_filtered\n",
    "\n",
    "df_sampled = df_filtered.sample(n=100, random_state=1)  # Set a random state for reproducibility\n",
    "\n",
    "# Save the sampled DataFrame to a CSV file\n",
    "df_sampled.to_csv('sampled_output.csv', index=False)\n"
   ]
  },
  {
   "cell_type": "code",
   "execution_count": null,
   "id": "d95ccf1f-bc0f-4288-9bd4-975863dba122",
   "metadata": {},
   "outputs": [],
   "source": [
    "\n",
    "# Filter the DataFrame for 'Delta Date' between 0 and 30 days\n",
    "# We create a timedelta for 0 days and for 30 days to use for comparison\n",
    "zero_days = pd.Timedelta(days=0)\n",
    "thirty_days = pd.Timedelta(days=30)\n",
    "\n",
    "df_delta_0_to_30 = df_filtered[(df_filtered['Delta Date'] >= zero_days) & (df_filtered['Delta Date'] <= thirty_days)]\n",
    "\n",
    "# Now df_delta_0_to_30 contains only the rows with 'Delta Date' in the desired range\n",
    "print(df_delta_0_to_30)\n",
    "\n",
    "df_delta_0_to_30.to_csv('sampled_output2.csv', index=False)"
   ]
  },
  {
   "cell_type": "code",
   "execution_count": null,
   "id": "e8f392f9-01d7-4beb-b663-2198fff63540",
   "metadata": {},
   "outputs": [],
   "source": [
    "df.to_csv('output.csv', index=False)"
   ]
  },
  {
   "cell_type": "code",
   "execution_count": 1,
   "id": "5e66f6a4-9949-4a51-b38c-20ebeefd854c",
   "metadata": {},
   "outputs": [],
   "source": [
    "import pandas as pd\n",
    "\n",
    "df = pd.read_csv('output.csv', encoding='UTF-8')"
   ]
  },
  {
   "cell_type": "code",
   "execution_count": 2,
   "id": "e15a4102-fb77-4f8e-9fb8-e27da23b9f1e",
   "metadata": {},
   "outputs": [
    {
     "ename": "NameError",
     "evalue": "name 'df_filtered' is not defined",
     "output_type": "error",
     "traceback": [
      "\u001b[1;31m---------------------------------------------------------------------------\u001b[0m",
      "\u001b[1;31mNameError\u001b[0m                                 Traceback (most recent call last)",
      "Cell \u001b[1;32mIn[2], line 6\u001b[0m\n\u001b[0;32m      4\u001b[0m \u001b[38;5;66;03m# Plotting the 'Delta Date Days' column\u001b[39;00m\n\u001b[0;32m      5\u001b[0m plt\u001b[38;5;241m.\u001b[39mfigure(figsize\u001b[38;5;241m=\u001b[39m(\u001b[38;5;241m10\u001b[39m, \u001b[38;5;241m6\u001b[39m))\n\u001b[1;32m----> 6\u001b[0m plt\u001b[38;5;241m.\u001b[39mhist(df_filtered[\u001b[38;5;124m'\u001b[39m\u001b[38;5;124mDelta Date Days\u001b[39m\u001b[38;5;124m'\u001b[39m], bins\u001b[38;5;241m=\u001b[39m\u001b[38;5;241m50\u001b[39m, alpha\u001b[38;5;241m=\u001b[39m\u001b[38;5;241m0.7\u001b[39m, color\u001b[38;5;241m=\u001b[39m\u001b[38;5;124m'\u001b[39m\u001b[38;5;124mblue\u001b[39m\u001b[38;5;124m'\u001b[39m)\n\u001b[0;32m      7\u001b[0m plt\u001b[38;5;241m.\u001b[39mtitle(\u001b[38;5;124m'\u001b[39m\u001b[38;5;124mDistribution of Delta Dates\u001b[39m\u001b[38;5;124m'\u001b[39m)\n\u001b[0;32m      8\u001b[0m plt\u001b[38;5;241m.\u001b[39mxlabel(\u001b[38;5;124m'\u001b[39m\u001b[38;5;124mDelta Days\u001b[39m\u001b[38;5;124m'\u001b[39m)\n",
      "\u001b[1;31mNameError\u001b[0m: name 'df_filtered' is not defined"
     ]
    },
    {
     "data": {
      "text/plain": [
       "<Figure size 1000x600 with 0 Axes>"
      ]
     },
     "metadata": {},
     "output_type": "display_data"
    }
   ],
   "source": [
    "import matplotlib.pyplot as plt\n",
    "\n",
    "\n",
    "# Plotting the 'Delta Date Days' column\n",
    "plt.figure(figsize=(10, 6))\n",
    "plt.hist(df_filtered['Delta Date Days'], bins=50, alpha=0.7, color='blue')\n",
    "plt.title('Distribution of Delta Dates')\n",
    "plt.xlabel('Delta Days')\n",
    "plt.ylabel('Frequency')\n",
    "plt.show()\n",
    "\n"
   ]
  },
  {
   "cell_type": "code",
   "execution_count": null,
   "id": "a0f6bad8-5181-4c0d-a90b-97a48e03d8dc",
   "metadata": {},
   "outputs": [],
   "source": [
    "# Use seaborn's style\n",
    "sns.set(style=\"whitegrid\")\n",
    "\n",
    "# Increase the figure size\n",
    "plt.figure(figsize=(14, 7))\n",
    "\n",
    "# Calculate the bin size. Here's an example using the square root rule\n",
    "# bin_size = int(np.sqrt(len(df_filtered['Delta Date Days'])))\n",
    "\n",
    "# Plotting the 'Delta Date Days' column\n",
    "sns.histplot(df_filtered['Delta Date Days'], bins=50, kde=False, color='royalblue')\n",
    "\n",
    "# Calculate the mean of the 'Delta Date Days' and add a vertical line for it\n",
    "mean_delta_days = df_filtered['Delta Date Days'].mean()\n",
    "plt.axvline(mean_delta_days, color='red', linestyle='dashed', linewidth=1)\n",
    "# Annotate the mean line\n",
    "plt.text(mean_delta_days + 2, plt.ylim()[1] * 0.9, f'Mean: {mean_delta_days:.2f}', color='red')\n",
    "# Adding a mean line\n",
    "mean_val = df_filtered['Delta Date Days'].mean()\n",
    "plt.axvline(mean_val, color='red', linestyle='dashed', linewidth=1)\n",
    "\n",
    "# Improve labels and title\n",
    "plt.title('Distribution of Delta Dates (similarity score above 0.5', fontsize=16)\n",
    "plt.xlabel('Delta Days', fontsize=14)\n",
    "plt.ylabel('Frequency', fontsize=14)\n",
    "\n",
    "total_observations = len(df_filtered)\n",
    "plt.text(0.97, 0.97, f'Total observations: {total_observations}', transform=ax.transAxes,\n",
    "         verticalalignment='top', horizontalalignment='right', fontsize=12)\n",
    "\n",
    "# Show the plot with a tighter layout\n",
    "plt.tight_layout()\n",
    "\n",
    "# Show the plot\n",
    "plt.show()\n"
   ]
  },
  {
   "cell_type": "code",
   "execution_count": null,
   "id": "c6432e66-2bd3-41e4-9d26-f2d36f26bbb6",
   "metadata": {},
   "outputs": [],
   "source": [
    "# Using seaborn's style\n",
    "sns.set(style=\"whitegrid\")\n",
    "\n",
    "# Increase the figure size\n",
    "plt.figure(figsize=(14, 7))\n",
    "\n",
    "# Calculate the bin size. Here's an example using the square root rule\n",
    "num_bins = int(np.sqrt(len(df_filtered['Delta Date Days'])))\n",
    "\n",
    "# Plotting the 'Delta Date Days' column\n",
    "ax = sns.histplot(df_filtered['Delta Date Days'], bins=num_bins, kde=False, color='royalblue')\n",
    "\n",
    "# Calculate the mean of the 'Delta Date Days' and add a vertical line for it\n",
    "mean_delta_days = df_filtered['Delta Date Days'].mean()\n",
    "plt.axvline(mean_delta_days, color='red', linestyle='dashed', linewidth=1)\n",
    "\n",
    "# Annotate the mean line\n",
    "plt.text(mean_delta_days + 2, plt.ylim()[1] * 0.9, f'Mean: {mean_delta_days:.2f}', color='red')\n",
    "\n",
    "# Get the patches and sort them by height\n",
    "top_patches = sorted(ax.patches, key=lambda x: x.get_height(), reverse=True)[:10]\n",
    "\n",
    "# Annotate the top 20 bins with the count of observations\n",
    "for p in top_patches:\n",
    "    x = p.get_x() + p.get_width() / 2\n",
    "    y = p.get_height()\n",
    "    ax.annotate(f'{int(y)}', (x, y), ha='center', va='bottom')\n",
    "\n",
    "# Improve labels and title\n",
    "plt.title('Distribution of Delta Dates (similarity score above 0.5)', fontsize=16)\n",
    "plt.xlabel('Delta Days', fontsize=14)\n",
    "plt.ylabel('Frequency', fontsize=14)\n",
    "\n",
    "# Annotate with the total number of observations\n",
    "total_observations = len(df_filtered)\n",
    "plt.text(0.97, 0.97, f'Total observations: {total_observations}', transform=ax.transAxes,\n",
    "         verticalalignment='top', horizontalalignment='right', fontsize=12)\n",
    "\n",
    "# Show the plot\n",
    "plt.show()\n"
   ]
  },
  {
   "cell_type": "code",
   "execution_count": null,
   "id": "1fc77545-03f8-4cf4-954d-a1a0c0041af0",
   "metadata": {},
   "outputs": [],
   "source": []
  }
 ],
 "metadata": {
  "kernelspec": {
   "display_name": "Python 3 (ipykernel)",
   "language": "python",
   "name": "python3"
  },
  "language_info": {
   "codemirror_mode": {
    "name": "ipython",
    "version": 3
   },
   "file_extension": ".py",
   "mimetype": "text/x-python",
   "name": "python",
   "nbconvert_exporter": "python",
   "pygments_lexer": "ipython3",
   "version": "3.11.7"
  }
 },
 "nbformat": 4,
 "nbformat_minor": 5
}
